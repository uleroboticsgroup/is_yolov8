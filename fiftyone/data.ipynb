{
 "cells": [
  {
   "cell_type": "code",
   "execution_count": 1,
   "id": "47d8dc6c",
   "metadata": {},
   "outputs": [],
   "source": [
    "import fiftyone as fo\n",
    "import fiftyone.zoo as foz"
   ]
  },
  {
   "cell_type": "code",
   "execution_count": 2,
   "id": "fb89671d",
   "metadata": {},
   "outputs": [],
   "source": [
    "import os\n",
    "from matplotlib import pyplot as plt\n",
    "import cv2\n",
    "import numpy as np"
   ]
  },
  {
   "cell_type": "code",
   "execution_count": 3,
   "id": "50bc4129",
   "metadata": {},
   "outputs": [],
   "source": [
    "classes= [\"Cat\"]"
   ]
  },
  {
   "cell_type": "code",
   "execution_count": 4,
   "id": "1bc4ccab",
   "metadata": {},
   "outputs": [
    {
     "name": "stdout",
     "output_type": "stream",
     "text": [
      "Downloading split 'train' to 'C:\\Users\\virgi\\fiftyone\\open-images-v6\\train' if necessary\n",
      "Necessary images already downloaded\n",
      "Existing download of split 'train' is sufficient\n",
      "Downloading split 'validation' to 'C:\\Users\\virgi\\fiftyone\\open-images-v6\\validation' if necessary\n",
      "Necessary images already downloaded\n",
      "Existing download of split 'validation' is sufficient\n",
      "Loading existing dataset 'open-images-v6-train-validation'. To reload from disk, either delete the existing dataset or provide a custom `dataset_name` to use\n"
     ]
    }
   ],
   "source": [
    "dataset = foz.load_zoo_dataset(\n",
    "    \"open-images-v6\",\n",
    "    splits = ['train', 'validation'],\n",
    "    label_types=[\"segmentations\"],\n",
    "    classes=classes,\n",
    "    only_matching = True\n",
    ")"
   ]
  },
  {
   "cell_type": "code",
   "execution_count": 5,
   "id": "938a7da7",
   "metadata": {},
   "outputs": [
    {
     "data": {
      "text/plain": [
       "Name:        open-images-v6-train-validation\n",
       "Media type:  image\n",
       "Num samples: 10214\n",
       "Persistent:  False\n",
       "Tags:        []\n",
       "Sample fields:\n",
       "    id:             fiftyone.core.fields.ObjectIdField\n",
       "    filepath:       fiftyone.core.fields.StringField\n",
       "    tags:           fiftyone.core.fields.ListField(fiftyone.core.fields.StringField)\n",
       "    metadata:       fiftyone.core.fields.EmbeddedDocumentField(fiftyone.core.metadata.ImageMetadata)\n",
       "    segmentations:  fiftyone.core.fields.EmbeddedDocumentField(fiftyone.core.labels.Detections)\n",
       "    open_images_id: fiftyone.core.fields.StringField"
      ]
     },
     "execution_count": 5,
     "metadata": {},
     "output_type": "execute_result"
    }
   ],
   "source": [
    "dataset"
   ]
  },
  {
   "cell_type": "code",
   "execution_count": 6,
   "id": "3d2ee276",
   "metadata": {},
   "outputs": [],
   "source": [
    "dataset.match_tags(\"validation\", bool=True).tag_samples(\"val\")"
   ]
  },
  {
   "cell_type": "code",
   "execution_count": 7,
   "id": "12d4e4fb",
   "metadata": {},
   "outputs": [
    {
     "data": {
      "text/html": [
       "\n",
       "        <iframe\n",
       "            width=\"100%\"\n",
       "            height=\"800\"\n",
       "            src=\"http://localhost:5151/?context=ipython&subscription=3ddcc4c8-df3e-4e62-8dae-fe9f0fd9b7e5\"\n",
       "            frameborder=\"0\"\n",
       "            allowfullscreen\n",
       "            \n",
       "        ></iframe>\n",
       "        "
      ],
      "text/plain": [
       "<IPython.lib.display.IFrame at 0x125a5392c20>"
      ]
     },
     "metadata": {},
     "output_type": "display_data"
    },
    {
     "data": {
      "text/plain": [
       "Dataset:          open-images-v6-train-validation\n",
       "Media type:       image\n",
       "Num samples:      10214\n",
       "Selected samples: 0\n",
       "Selected labels:  0\n",
       "Session URL:      http://localhost:5151/"
      ]
     },
     "execution_count": 7,
     "metadata": {},
     "output_type": "execute_result"
    }
   ],
   "source": [
    "fo.launch_app(dataset)"
   ]
  },
  {
   "cell_type": "code",
   "execution_count": 8,
   "id": "69e02132",
   "metadata": {},
   "outputs": [
    {
     "name": "stdout",
     "output_type": "stream",
     "text": [
      " 100% |███████████████| 9943/9943 [4.9m elapsed, 0s remaining, 32.8 samples/s]      \n",
      "Directory 'open_data' already exists; export will be merged with existing files\n",
      " 100% |█████████████████| 271/271 [8.3s elapsed, 0s remaining, 33.3 samples/s]       \n"
     ]
    }
   ],
   "source": [
    "#Export detections in YOLO format\n",
    "export_dir = \"open_data\"\n",
    "\n",
    "for split in [\"train\", \"val\"]:\n",
    "    split_view = dataset.match_tags(split)\n",
    "    split_view.export(\n",
    "        export_dir=export_dir,\n",
    "        dataset_type=fo.types.YOLOv5Dataset,\n",
    "        split=split\n",
    "    )"
   ]
  },
  {
   "cell_type": "code",
   "execution_count": 11,
   "id": "ba7f7208",
   "metadata": {},
   "outputs": [],
   "source": [
    "# To ensure the order of the classes in the yolo configuration file\n",
    "\"\"\"\n",
    "yolo_dataset = fo.Dataset('yolo')\n",
    "yolo_dataset.add_dir(\n",
    "        dataset_dir=export_dir,\n",
    "        dataset_type=fo.types.YOLOv5Dataset,\n",
    ")\n",
    "classes = yolo_dataset.get_classes(\"all\")\n",
    "\"\"\"\n",
    "\n",
    "# Define YOLO label map\n",
    "label_map = {name: i for i, name in enumerate(classes)}\n",
    "\n",
    "# Define function to convert segmentation labels to YOLO format\n",
    "def to_yolo(seg_labels):\n",
    "    # Create list to store YOLO format labels\n",
    "    yolo_labels = []\n",
    "    for label in seg_labels:\n",
    "        mask = np.uint8(label.mask)        \n",
    "        contours, hierarchy = cv2.findContours(mask, cv2.RETR_TREE, cv2.CHAIN_APPROX_SIMPLE)\n",
    "        cnt = contours[0].astype(np.float32)\n",
    "        cnt = cnt.reshape(cnt.shape[0], 2)\n",
    "        cnt[:,0] = cnt[:,0]/float(mask.shape[1])#sample.metadata.width)\n",
    "        cnt[:,1] = cnt[:,1]/float(mask.shape[0])#(sample.metadata.height)\n",
    "        cnt = cnt.reshape(cnt.shape[0]*2)\n",
    "        \n",
    "        label_boxes = label.bounding_box\n",
    "        x, y, w, h = label_boxes\n",
    "        class_id = label_map[label.label]\n",
    "        yolo_labels.append((class_id, x, y, w, h, cnt))            \n",
    "    return yolo_labels\n",
    "\n",
    "\n",
    "# Iterate over samples in dataset and write YOLO format labels to file\n",
    "for sample in dataset:\n",
    "    # Get image path\n",
    "    image_path = sample.filepath\n",
    "    # Get segmentation labels\n",
    "    seg_labels = sample.segmentations.detections\n",
    "    # Compute metadata as width and height\n",
    "    sample.compute_metadata()\n",
    "    # Convert segmentation labels to YOLO format\n",
    "    yolo_labels = to_yolo(seg_labels)\n",
    "    # Define output file path\n",
    "    filename = os.path.splitext(os.path.basename(image_path))[0] + \".txt\"\n",
    "    output_file = os.path.join(export_dir, 'labels', sample.tags[-1], filename)\n",
    "    # Write YOLO format labels to file\n",
    "    with open(output_file, \"w\") as f:\n",
    "        for label in yolo_labels:\n",
    "            class_id, x, y, w, h, mask = label\n",
    "            # Write label to file in YOLO format\n",
    "            f.write(f\"{class_id} {x} {y} {w} {h} {' '.join(str(b) for b in mask)}\\n\")\n",
    "            f.write(f\"{class_id} {' '.join(str(b) for b in mask)}\\n\")\n",
    "            #f.write(f\"{class_id} {' '.join(str(b) for b in mask)}\\n\")"
   ]
  },
  {
   "cell_type": "code",
   "execution_count": null,
   "id": "20ff5299",
   "metadata": {},
   "outputs": [],
   "source": []
  }
 ],
 "metadata": {
  "kernelspec": {
   "display_name": "Python 3 (ipykernel)",
   "language": "python",
   "name": "python3"
  },
  "language_info": {
   "codemirror_mode": {
    "name": "ipython",
    "version": 3
   },
   "file_extension": ".py",
   "mimetype": "text/x-python",
   "name": "python",
   "nbconvert_exporter": "python",
   "pygments_lexer": "ipython3",
   "version": "3.10.8"
  }
 },
 "nbformat": 4,
 "nbformat_minor": 5
}
